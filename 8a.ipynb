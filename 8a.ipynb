{
 "cells": [
  {
   "cell_type": "code",
   "execution_count": 2,
   "id": "70f821ea",
   "metadata": {},
   "outputs": [
    {
     "data": {
      "text/html": [
       "<div>\n",
       "<style scoped>\n",
       "    .dataframe tbody tr th:only-of-type {\n",
       "        vertical-align: middle;\n",
       "    }\n",
       "\n",
       "    .dataframe tbody tr th {\n",
       "        vertical-align: top;\n",
       "    }\n",
       "\n",
       "    .dataframe thead th {\n",
       "        text-align: right;\n",
       "    }\n",
       "</style>\n",
       "<table border=\"1\" class=\"dataframe\">\n",
       "  <thead>\n",
       "    <tr style=\"text-align: right;\">\n",
       "      <th></th>\n",
       "      <th>6</th>\n",
       "      <th>148</th>\n",
       "      <th>72</th>\n",
       "      <th>35</th>\n",
       "      <th>0</th>\n",
       "      <th>33.6</th>\n",
       "      <th>0.627</th>\n",
       "      <th>50</th>\n",
       "      <th>1</th>\n",
       "    </tr>\n",
       "  </thead>\n",
       "  <tbody>\n",
       "    <tr>\n",
       "      <th>0</th>\n",
       "      <td>1</td>\n",
       "      <td>85</td>\n",
       "      <td>66</td>\n",
       "      <td>29</td>\n",
       "      <td>0</td>\n",
       "      <td>26.6</td>\n",
       "      <td>0.351</td>\n",
       "      <td>31</td>\n",
       "      <td>0</td>\n",
       "    </tr>\n",
       "    <tr>\n",
       "      <th>1</th>\n",
       "      <td>8</td>\n",
       "      <td>183</td>\n",
       "      <td>64</td>\n",
       "      <td>0</td>\n",
       "      <td>0</td>\n",
       "      <td>23.3</td>\n",
       "      <td>0.672</td>\n",
       "      <td>32</td>\n",
       "      <td>1</td>\n",
       "    </tr>\n",
       "    <tr>\n",
       "      <th>2</th>\n",
       "      <td>1</td>\n",
       "      <td>89</td>\n",
       "      <td>66</td>\n",
       "      <td>23</td>\n",
       "      <td>94</td>\n",
       "      <td>28.1</td>\n",
       "      <td>0.167</td>\n",
       "      <td>21</td>\n",
       "      <td>0</td>\n",
       "    </tr>\n",
       "    <tr>\n",
       "      <th>3</th>\n",
       "      <td>0</td>\n",
       "      <td>137</td>\n",
       "      <td>40</td>\n",
       "      <td>35</td>\n",
       "      <td>168</td>\n",
       "      <td>43.1</td>\n",
       "      <td>2.288</td>\n",
       "      <td>33</td>\n",
       "      <td>1</td>\n",
       "    </tr>\n",
       "    <tr>\n",
       "      <th>4</th>\n",
       "      <td>5</td>\n",
       "      <td>116</td>\n",
       "      <td>74</td>\n",
       "      <td>0</td>\n",
       "      <td>0</td>\n",
       "      <td>25.6</td>\n",
       "      <td>0.201</td>\n",
       "      <td>30</td>\n",
       "      <td>0</td>\n",
       "    </tr>\n",
       "  </tbody>\n",
       "</table>\n",
       "</div>"
      ],
      "text/plain": [
       "   6  148  72  35    0  33.6  0.627  50  1\n",
       "0  1   85  66  29    0  26.6  0.351  31  0\n",
       "1  8  183  64   0    0  23.3  0.672  32  1\n",
       "2  1   89  66  23   94  28.1  0.167  21  0\n",
       "3  0  137  40  35  168  43.1  2.288  33  1\n",
       "4  5  116  74   0    0  25.6  0.201  30  0"
      ]
     },
     "execution_count": 2,
     "metadata": {},
     "output_type": "execute_result"
    }
   ],
   "source": [
    "from numpy import loadtxt\n",
    "import numpy as np\n",
    "import pandas as pd\n",
    "from keras import models\n",
    "from keras import Sequential\n",
    "from keras.layers import Dense\n",
    "from keras import layers\n",
    "from sklearn.model_selection import train_test_split\n",
    "from sklearn import preprocessing\n",
    "import matplotlib.pyplot as plt\n",
    "dataframe = pd.read_csv('pima-indians-diabetes.csv', delimiter = ',')\n",
    "dataframe.head()"
   ]
  },
  {
   "cell_type": "code",
   "execution_count": 4,
   "id": "cb230eff",
   "metadata": {},
   "outputs": [
    {
     "data": {
      "text/plain": [
       "(767, 9)"
      ]
     },
     "execution_count": 4,
     "metadata": {},
     "output_type": "execute_result"
    }
   ],
   "source": [
    "#split into input(x) and output y variables\n",
    "X = dataframe.iloc[:, :8]\n",
    "y = dataframe.iloc[:, 8]\n",
    "dataframe.shape"
   ]
  },
  {
   "cell_type": "code",
   "execution_count": 9,
   "id": "64b2517b",
   "metadata": {},
   "outputs": [
    {
     "name": "stdout",
     "output_type": "stream",
     "text": [
      "Epoch 1/20\n",
      "6/6 [==============================] - 1s 31ms/step - loss: 4.4868 - accuracy: 0.3957 - val_loss: 3.7862 - val_accuracy: 0.4055\n",
      "Epoch 2/20\n",
      "6/6 [==============================] - 0s 4ms/step - loss: 2.7352 - accuracy: 0.4425 - val_loss: 2.7138 - val_accuracy: 0.5315\n",
      "Epoch 3/20\n",
      "6/6 [==============================] - 0s 6ms/step - loss: 2.1753 - accuracy: 0.5283 - val_loss: 2.5266 - val_accuracy: 0.5866\n",
      "Epoch 4/20\n",
      "6/6 [==============================] - 0s 5ms/step - loss: 2.1798 - accuracy: 0.6062 - val_loss: 2.4302 - val_accuracy: 0.5906\n",
      "Epoch 5/20\n",
      "6/6 [==============================] - 0s 5ms/step - loss: 1.9933 - accuracy: 0.5731 - val_loss: 2.1783 - val_accuracy: 0.5866\n",
      "Epoch 6/20\n",
      "6/6 [==============================] - 0s 3ms/step - loss: 1.7329 - accuracy: 0.5497 - val_loss: 2.0771 - val_accuracy: 0.5472\n",
      "Epoch 7/20\n",
      "6/6 [==============================] - 0s 7ms/step - loss: 1.6385 - accuracy: 0.5205 - val_loss: 1.9812 - val_accuracy: 0.5315\n",
      "Epoch 8/20\n",
      "6/6 [==============================] - 0s 5ms/step - loss: 1.5271 - accuracy: 0.5166 - val_loss: 1.8475 - val_accuracy: 0.5551\n",
      "Epoch 9/20\n",
      "6/6 [==============================] - 0s 5ms/step - loss: 1.4113 - accuracy: 0.5458 - val_loss: 1.7038 - val_accuracy: 0.5630\n",
      "Epoch 10/20\n",
      "6/6 [==============================] - 0s 2ms/step - loss: 1.3171 - accuracy: 0.5750 - val_loss: 1.6068 - val_accuracy: 0.5827\n",
      "Epoch 11/20\n",
      "6/6 [==============================] - 0s 7ms/step - loss: 1.2538 - accuracy: 0.5770 - val_loss: 1.5259 - val_accuracy: 0.5709\n",
      "Epoch 12/20\n",
      "6/6 [==============================] - 0s 6ms/step - loss: 1.1774 - accuracy: 0.5731 - val_loss: 1.4751 - val_accuracy: 0.5630\n",
      "Epoch 13/20\n",
      "6/6 [==============================] - 0s 5ms/step - loss: 1.1275 - accuracy: 0.5789 - val_loss: 1.4194 - val_accuracy: 0.5472\n",
      "Epoch 14/20\n",
      "6/6 [==============================] - 0s 1ms/step - loss: 1.0933 - accuracy: 0.5906 - val_loss: 1.3574 - val_accuracy: 0.5669\n",
      "Epoch 15/20\n",
      "6/6 [==============================] - 0s 3ms/step - loss: 1.0463 - accuracy: 0.6101 - val_loss: 1.3133 - val_accuracy: 0.5827\n",
      "Epoch 16/20\n",
      "6/6 [==============================] - 0s 7ms/step - loss: 1.0165 - accuracy: 0.6160 - val_loss: 1.2693 - val_accuracy: 0.6142\n",
      "Epoch 17/20\n",
      "6/6 [==============================] - 0s 5ms/step - loss: 0.9964 - accuracy: 0.6199 - val_loss: 1.2590 - val_accuracy: 0.6142\n",
      "Epoch 18/20\n",
      "6/6 [==============================] - 0s 5ms/step - loss: 0.9665 - accuracy: 0.6160 - val_loss: 1.2573 - val_accuracy: 0.5984\n",
      "Epoch 19/20\n",
      "6/6 [==============================] - 0s 2ms/step - loss: 0.9437 - accuracy: 0.6199 - val_loss: 1.2400 - val_accuracy: 0.6024\n",
      "Epoch 20/20\n",
      "6/6 [==============================] - 0s 2ms/step - loss: 0.9309 - accuracy: 0.6257 - val_loss: 1.2114 - val_accuracy: 0.5906\n"
     ]
    }
   ],
   "source": [
    "features_train,features_test,target_train,target_test=train_test_split(X,y,test_size=0.33,random_state=0)\n",
    "network = models.Sequential()\n",
    "network.add(Dense(units = 8, activation = \"relu\", input_shape = (features_train.shape[1],)))\n",
    "network.add(Dense(units = 8, activation = \"relu\"))\n",
    "network.add(Dense(units = 1, activation = \"sigmoid\"))\n",
    "#compile the keras model\n",
    "network.compile(loss = 'binary_crossentropy', optimizer = 'adam', metrics = ['accuracy'])\n",
    "#fit the keras model on the dataset\n",
    "history = network.fit(features_train, target_train, epochs = 20, verbose = 1, batch_size = 100, validation_data = (features_test, target_test))"
   ]
  },
  {
   "cell_type": "code",
   "execution_count": 10,
   "id": "bb61f110",
   "metadata": {},
   "outputs": [
    {
     "data": {
      "image/png": "[encoded data removed]",
      "text/plain": [
       "<Figure size 432x288 with 1 Axes>"
      ]
     },
     "metadata": {
      "needs_background": "light"
     },
     "output_type": "display_data"
    }
   ],
   "source": [
    "training_loss = history.history[\"loss\"]\n",
    "test_loss = history.history[\"val_loss\"]\n",
    "epoch_count = range(1, len(training_loss)+1)\n",
    "plt.plot(epoch_count, training_loss, \"r--\")\n",
    "plt.plot(epoch_count, test_loss, \"b-\")\n",
    "plt.legend([\"Training loss\", \"Test loss\"])\n",
    "plt.xlabel(\"Epoch\")\n",
    "plt.ylabel(\"loss\")\n",
    "plt.show()"
   ]
  },
  {
   "cell_type": "code",
   "execution_count": 11,
   "id": "b2003dab",
   "metadata": {},
   "outputs": [
    {
     "name": "stdout",
     "output_type": "stream",
     "text": [
      "17/17 [==============================] - 0s 2ms/step - loss: 0.9184 - accuracy: 0.6238\n",
      "Accuracy : 62.38\n"
     ]
    }
   ],
   "source": [
    "_,accuracy = network.evaluate(features_train, target_train)\n",
    "print('Accuracy : %.2f'%(accuracy*100))"
   ]
  },
  {
   "cell_type": "code",
   "execution_count": 13,
   "id": "7414acdf",
   "metadata": {},
   "outputs": [
    {
     "name": "stdout",
     "output_type": "stream",
     "text": [
      "8/8 [==============================] - 0s 2ms/step\n",
      "8/8 [==============================] - 0s 0s/step - loss: 1.2114 - accuracy: 0.5906\n",
      "Accuracy: 59.06\n"
     ]
    }
   ],
   "source": [
    "#predict using the keras model\n",
    "predicted_target = network.predict(features_test)\n",
    "_,accuracy = network.evaluate(features_test, target_test)\n",
    "print('Accuracy: %.2f' % (accuracy*100))"
   ]
  },
  {
   "cell_type": "code",
   "execution_count": 14,
   "id": "028b475a",
   "metadata": {},
   "outputs": [
    {
     "name": "stdout",
     "output_type": "stream",
     "text": [
      "[0.2243309]\n",
      "[0.12578572]\n",
      "[0.99667984]\n",
      "[0.9962766]\n",
      "[0.14154027]\n",
      "[0.91503423]\n",
      "[0.37973294]\n",
      "[0.9775541]\n",
      "[0.9256355]\n",
      "[0.27721944]\n"
     ]
    }
   ],
   "source": [
    "#Y = target_train\n",
    "for i in range(10):\n",
    "    print(predicted_target[i])"
   ]
  },
  {
   "cell_type": "code",
   "execution_count": 15,
   "id": "59a67ed3",
   "metadata": {},
   "outputs": [
    {
     "data": {
      "image/png": "[encoded data removed]",
      "text/plain": [
       "<Figure size 432x288 with 1 Axes>"
      ]
     },
     "metadata": {
      "needs_background": "light"
     },
     "output_type": "display_data"
    }
   ],
   "source": [
    "training_accuracy = history.history[\"accuracy\"]\n",
    "test_accuracy = history.history[\"val_accuracy\"]\n",
    "plt.plot(epoch_count, training_accuracy, \"r--\")\n",
    "plt.plot(epoch_count, test_accuracy, \"b-\")\n",
    "plt.legend([\"Training accuracy\", \"Testing accuracy\"])\n",
    "plt.xlabel(\"epoch\")\n",
    "plt.ylabel(\"Accuracy score\")\n",
    "plt.show()\n"
   ]
  },
  {
   "cell_type": "code",
   "execution_count": null,
   "id": "4c250be7",
   "metadata": {},
   "outputs": [],
   "source": []
  }
 ],
 "metadata": {
  "kernelspec": {
   "display_name": "Python 3 (ipykernel)",
   "language": "python",
   "name": "python3"
  },
  "language_info": {
   "codemirror_mode": {
    "name": "ipython",
    "version": 3
   },
   "file_extension": ".py",
   "mimetype": "text/x-python",
   "name": "python",
   "nbconvert_exporter": "python",
   "pygments_lexer": "ipython3",
   "version": "3.9.12"
  }
 },
 "nbformat": 4,
 "nbformat_minor": 5
}
