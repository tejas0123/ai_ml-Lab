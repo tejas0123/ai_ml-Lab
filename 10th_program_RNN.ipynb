{
  "nbformat": 4,
  "nbformat_minor": 0,
  "metadata": {
    "colab": {
      "provenance": []
    },
    "kernelspec": {
      "name": "python3",
      "display_name": "Python 3"
    },
    "language_info": {
      "name": "python"
    }
  },
  "cells": [
    {
      "cell_type": "code",
      "execution_count": null,
      "metadata": {
        "id": "JP-g9p6oMAqh"
      },
      "outputs": [],
      "source": [
        "from keras.models import Sequential\n",
        "from keras.layers import Embedding, SimpleRNN\n",
        "from keras.datasets import imdb\n",
        "from keras.preprocessing import sequence\n",
        "from keras.layers import Dense\n",
        "from keras.utils import pad_sequences"
      ]
    },
    {
      "cell_type": "code",
      "source": [
        "max_features = 10000\n",
        "maxlen = 500\n",
        "batch_size = 32\n"
      ],
      "metadata": {
        "id": "LTiOmtmVeHLV"
      },
      "execution_count": null,
      "outputs": []
    },
    {
      "cell_type": "code",
      "source": [
        "print(\"Loading data....\")\n",
        "(input_train, y_train), (input_test, y_test) = imdb.load_data(num_words = max_features) \n",
        "print(len(input_train), 'train sequences')\n",
        "print(len(input_test), 'test sequences')\n",
        "print(\"pad sequences (samples x time)\")\n",
        "input_train = pad_sequences(input_train, maxlen=maxlen)\n",
        "input_test = pad_sequences(input_test, maxlen = maxlen)\n",
        "print(\"input_train shape: \", input_train.shape)\n",
        "print(\"input_test shape: \", input_test.shape)"
      ],
      "metadata": {
        "id": "1-axpAzceUmW",
        "colab": {
          "base_uri": "https://localhost:8080/"
        },
        "outputId": "92bf255b-f3f3-4a21-dcc7-f8fabdeecad4"
      },
      "execution_count": null,
      "outputs": [
        {
          "output_type": "stream",
          "name": "stdout",
          "text": [
            "Loading data....\n",
            "Downloading data from https://storage.googleapis.com/tensorflow/tf-keras-datasets/imdb.npz\n",
            "17464789/17464789 [==============================] - 0s 0us/step\n",
            "25000 train sequences\n",
            "25000 test sequences\n",
            "pad sequences (samples x time)\n",
            "input_train shape:  (25000, 500)\n",
            "input_test shape:  (25000, 500)\n"
          ]
        }
      ]
    },
    {
      "cell_type": "code",
      "source": [
        "model = Sequential()\n",
        "model.add(Embedding(max_features, 32))\n",
        "model.add(SimpleRNN(32))\n",
        "model.add(Dense(1, activation = 'sigmoid'))\n",
        "model.summary()"
      ],
      "metadata": {
        "colab": {
          "base_uri": "https://localhost:8080/"
        },
        "id": "JltzTm2g9N9b",
        "outputId": "de8f1d71-4500-44ce-ed3b-1b810eab5a6f"
      },
      "execution_count": null,
      "outputs": [
        {
          "output_type": "stream",
          "name": "stdout",
          "text": [
            "Model: \"sequential\"\n",
            "_________________________________________________________________\n",
            " Layer (type)                Output Shape              Param #   \n",
            "=================================================================\n",
            " embedding (Embedding)       (None, None, 32)          320000    \n",
            "                                                                 \n",
            " simple_rnn (SimpleRNN)      (None, 32)                2080      \n",
            "                                                                 \n",
            " dense (Dense)               (None, 1)                 33        \n",
            "                                                                 \n",
            "=================================================================\n",
            "Total params: 322,113\n",
            "Trainable params: 322,113\n",
            "Non-trainable params: 0\n",
            "_________________________________________________________________\n"
          ]
        }
      ]
    },
    {
      "cell_type": "code",
      "source": [
        "model.compile(optimizer = 'rmsprop', loss = 'binary_crossentropy', metrics = ['accuracy'])\n",
        "history = model.fit(input_train, y_train, epochs = 10, batch_size = 128, validation_split = 0.2)"
      ],
      "metadata": {
        "colab": {
          "base_uri": "https://localhost:8080/"
        },
        "id": "q8NknRd59iXk",
        "outputId": "82521713-e035-4633-fe6d-24e24597581a"
      },
      "execution_count": null,
      "outputs": [
        {
          "output_type": "stream",
          "name": "stdout",
          "text": [
            "Epoch 1/10\n",
            "157/157 [==============================] - 21s 124ms/step - loss: 0.6415 - accuracy: 0.6165 - val_loss: 0.5287 - val_accuracy: 0.7542\n",
            "Epoch 2/10\n",
            "157/157 [==============================] - 19s 123ms/step - loss: 0.3950 - accuracy: 0.8306 - val_loss: 0.4307 - val_accuracy: 0.8074\n",
            "Epoch 3/10\n",
            "157/157 [==============================] - 21s 132ms/step - loss: 0.2963 - accuracy: 0.8848 - val_loss: 0.3528 - val_accuracy: 0.8558\n",
            "Epoch 4/10\n",
            "157/157 [==============================] - 19s 124ms/step - loss: 0.2291 - accuracy: 0.9121 - val_loss: 0.4538 - val_accuracy: 0.8208\n",
            "Epoch 5/10\n",
            "157/157 [==============================] - 20s 126ms/step - loss: 0.1894 - accuracy: 0.9309 - val_loss: 0.4013 - val_accuracy: 0.8470\n",
            "Epoch 6/10\n",
            "157/157 [==============================] - 20s 125ms/step - loss: 0.1300 - accuracy: 0.9534 - val_loss: 0.6730 - val_accuracy: 0.7864\n",
            "Epoch 7/10\n",
            "157/157 [==============================] - 21s 132ms/step - loss: 0.1126 - accuracy: 0.9580 - val_loss: 0.4847 - val_accuracy: 0.8382\n",
            "Epoch 8/10\n",
            "157/157 [==============================] - 19s 124ms/step - loss: 0.0582 - accuracy: 0.9820 - val_loss: 0.5338 - val_accuracy: 0.8368\n",
            "Epoch 9/10\n",
            "157/157 [==============================] - 19s 124ms/step - loss: 0.0408 - accuracy: 0.9876 - val_loss: 0.6350 - val_accuracy: 0.7852\n",
            "Epoch 10/10\n",
            "157/157 [==============================] - 19s 124ms/step - loss: 0.0227 - accuracy: 0.9938 - val_loss: 0.6220 - val_accuracy: 0.8488\n"
          ]
        }
      ]
    },
    {
      "cell_type": "code",
      "source": [
        "predicted_classes = model.predict(input_test)\n",
        "import numpy as np\n",
        "predicted_classes = np.argmax(np.round(predicted_classes), axis = 1)\n",
        "print(predicted_classes.shape, y_test.shape)"
      ],
      "metadata": {
        "colab": {
          "base_uri": "https://localhost:8080/"
        },
        "id": "xZiH74jxNO9k",
        "outputId": "8182a3d4-b65a-4811-b867-953fa66b46fd"
      },
      "execution_count": null,
      "outputs": [
        {
          "output_type": "stream",
          "name": "stdout",
          "text": [
            "782/782 [==============================] - 15s 19ms/step\n",
            "(25000,) (25000,)\n"
          ]
        }
      ]
    },
    {
      "cell_type": "code",
      "source": [
        "correct = np.where(predicted_classes == y_test)[0]\n",
        "print(\"Found %d correct labels\" % len(correct))\n",
        "incorrect = np.where(predicted_classes != y_test)[0]\n",
        "print(\"Found %d incorrect labels\" % len(incorrect))\n"
      ],
      "metadata": {
        "colab": {
          "base_uri": "https://localhost:8080/"
        },
        "id": "4p7FsvRMN_ih",
        "outputId": "c8f97ff2-ee05-4bdc-baca-f81c0785374c"
      },
      "execution_count": null,
      "outputs": [
        {
          "output_type": "stream",
          "name": "stdout",
          "text": [
            "Found 12500 correct labels\n",
            "Found 12500 incorrect labels\n"
          ]
        }
      ]
    },
    {
      "cell_type": "code",
      "source": [
        "from sklearn.metrics import classification_report\n",
        "num_classes = 2\n",
        "target_name = [\"Class{}\".format(i) for i in range(num_classes)]\n",
        "print(classification_report(y_test, predicted_classes, target_names = target_name))"
      ],
      "metadata": {
        "colab": {
          "base_uri": "https://localhost:8080/"
        },
        "id": "dMiyMoG8Ou7C",
        "outputId": "0985ef53-6f29-4cd9-b8ed-572d214038b5"
      },
      "execution_count": null,
      "outputs": [
        {
          "output_type": "stream",
          "name": "stdout",
          "text": [
            "              precision    recall  f1-score   support\n",
            "\n",
            "      Class0       0.50      1.00      0.67     12500\n",
            "      Class1       0.00      0.00      0.00     12500\n",
            "\n",
            "    accuracy                           0.50     25000\n",
            "   macro avg       0.25      0.50      0.33     25000\n",
            "weighted avg       0.25      0.50      0.33     25000\n",
            "\n"
          ]
        },
        {
          "output_type": "stream",
          "name": "stderr",
          "text": [
            "/usr/local/lib/python3.8/dist-packages/sklearn/metrics/_classification.py:1318: UndefinedMetricWarning: Precision and F-score are ill-defined and being set to 0.0 in labels with no predicted samples. Use `zero_division` parameter to control this behavior.\n",
            "  _warn_prf(average, modifier, msg_start, len(result))\n",
            "/usr/local/lib/python3.8/dist-packages/sklearn/metrics/_classification.py:1318: UndefinedMetricWarning: Precision and F-score are ill-defined and being set to 0.0 in labels with no predicted samples. Use `zero_division` parameter to control this behavior.\n",
            "  _warn_prf(average, modifier, msg_start, len(result))\n",
            "/usr/local/lib/python3.8/dist-packages/sklearn/metrics/_classification.py:1318: UndefinedMetricWarning: Precision and F-score are ill-defined and being set to 0.0 in labels with no predicted samples. Use `zero_division` parameter to control this behavior.\n",
            "  _warn_prf(average, modifier, msg_start, len(result))\n"
          ]
        }
      ]
    },
    {
      "cell_type": "code",
      "source": [
        "import matplotlib.pyplot as plt\n",
        "acc = history.history['accuracy']\n",
        "val_acc = history.history['val_accuracy']\n",
        "epochs = range(1, len(acc) + 1)\n",
        "plt.plot(epochs, acc, 'bo', label='Training acc')\n",
        "plt.plot(epochs, val_acc, 'b', label='Validation acc')\n",
        "plt.title('Training and validation accuracy')\n",
        "plt.legend()"
      ],
      "metadata": {
        "colab": {
          "base_uri": "https://localhost:8080/",
          "height": 298
        },
        "id": "Ze6WuaAhovl6",
        "outputId": "ca696c83-d678-44ae-8606-ecf2e2172419"
      },
      "execution_count": null,
      "outputs": [
        {
          "output_type": "execute_result",
          "data": {
            "text/plain": [
              "<matplotlib.legend.Legend at 0x7fe6572014f0>"
            ]
          },
          "metadata": {},
          "execution_count": 18
        },
        {
          "output_type": "display_data",
          "data": {
            "text/plain": [
              "<Figure size 432x288 with 1 Axes>"
            ],
            "image/png": "[encoded data removed]"
          },
          "metadata": {
            "needs_background": "light"
          }
        }
      ]
    },
    {
      "cell_type": "code",
      "source": [
        "plt.figure()\n",
        "loss = history.history['loss']\n",
        "val_loss = history.history['val_loss']\n",
        "epochs = range(1 ,len(acc)+1)\n",
        "plt.plot(epochs, loss, 'bo', label = 'Training loss')\n",
        "plt.plot(epochs, val_loss, 'b', label = 'Validation loss')\n",
        "plt.title(\"Training and validation loss\")\n",
        "plt.legend()\n",
        "plt.show()\n"
      ],
      "metadata": {
        "colab": {
          "base_uri": "https://localhost:8080/",
          "height": 281
        },
        "id": "zkdGHfxhFYLU",
        "outputId": "1062989a-122b-4012-99fc-f181fb9506a9"
      },
      "execution_count": null,
      "outputs": [
        {
          "output_type": "display_data",
          "data": {
            "text/plain": [
              "<Figure size 432x288 with 1 Axes>"
            ],
            "image/png": "[encoded data removed]"
          },
          "metadata": {
            "needs_background": "light"
          }
        }
      ]
    }
  ]
}