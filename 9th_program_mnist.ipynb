{
  "nbformat": 4,
  "nbformat_minor": 0,
  "metadata": {
    "colab": {
      "provenance": []
    },
    "kernelspec": {
      "name": "python3",
      "display_name": "Python 3"
    },
    "language_info": {
      "name": "python"
    }
  },
  "cells": [
    {
      "cell_type": "code",
      "execution_count": null,
      "metadata": {
        "id": "AMeHdYUNwm86"
      },
      "outputs": [],
      "source": [
        "import numpy as np\n",
        "from keras.datasets import mnist\n",
        "from keras.utils import to_categorical\n",
        "import matplotlib.pyplot as plt\n",
        "%matplotlib inline\n",
        "import tensorflow as tf"
      ]
    },
    {
      "cell_type": "code",
      "source": [
        "#using tensorflow backend\n",
        "import keras\n",
        "from keras.models import Sequential, Model\n",
        "from tensorflow.keras.layers import Input\n",
        "from keras.layers import Dense, Dropout, Flatten\n",
        "from keras.layers import Conv2D, MaxPooling2D\n",
        "from keras.layers.normalization.batch_normalization import BatchNormalization\n",
        "from keras.layers import LeakyReLU"
      ],
      "metadata": {
        "id": "A4jnvncnDlAY"
      },
      "execution_count": null,
      "outputs": []
    },
    {
      "cell_type": "code",
      "source": [
        "(train_x, train_y), (test_x, test_y) = mnist.load_data()\n",
        "print(\"Training data shape:\", train_x.shape, train_y.shape)\n",
        "print(\"Testing data shape:\", test_x.shape, test_y.shape)\n"
      ],
      "metadata": {
        "colab": {
          "base_uri": "https://localhost:8080/"
        },
        "id": "uKGtQ19WbP_A",
        "outputId": "a097a373-fe78-434f-a97c-4b1c5085e6bb"
      },
      "execution_count": null,
      "outputs": [
        {
          "output_type": "stream",
          "name": "stdout",
          "text": [
            "Downloading data from https://storage.googleapis.com/tensorflow/tf-keras-datasets/mnist.npz\n",
            "11490434/11490434 [==============================] - 0s 0us/step\n",
            "Training data shape: (60000, 28, 28) (60000,)\n",
            "Testing data shape: (10000, 28, 28) (10000,)\n"
          ]
        }
      ]
    },
    {
      "cell_type": "code",
      "source": [
        "#find the unique numbers from the trian labels\n",
        "classes = np.unique(train_y)\n",
        "nClasses = len(classes)\n",
        "print(\"The total no of outputs: \", nClasses)\n",
        "print(\"Output Classes: \", classes)"
      ],
      "metadata": {
        "colab": {
          "base_uri": "https://localhost:8080/"
        },
        "id": "lvEMzomtcB8D",
        "outputId": "62cae242-f1f3-48f7-9690-157d74a04c48"
      },
      "execution_count": null,
      "outputs": [
        {
          "output_type": "stream",
          "name": "stdout",
          "text": [
            "The total no of outputs:  10\n",
            "Output Classes:  [0 1 2 3 4 5 6 7 8 9]\n"
          ]
        }
      ]
    },
    {
      "cell_type": "code",
      "source": [
        "#display the image in training data\n",
        "plt.subplot(121)\n",
        "plt.imshow(train_x[0,:,:], cmap = 'gray')\n",
        "plt.title(\"Ground truth: {}\".format(train_y[0]))"
      ],
      "metadata": {
        "colab": {
          "base_uri": "https://localhost:8080/",
          "height": 233
        },
        "id": "GksPBNH0cjEA",
        "outputId": "80643731-c6e5-4218-d524-400a7c91f2f0"
      },
      "execution_count": null,
      "outputs": [
        {
          "output_type": "execute_result",
          "data": {
            "text/plain": [
              "Text(0.5, 1.0, 'Ground truth: 5')"
            ]
          },
          "metadata": {},
          "execution_count": 6
        },
        {
          "output_type": "display_data",
          "data": {
            "text/plain": [
              "<Figure size 432x288 with 1 Axes>"
            ],
            "image/png": "[encoded data removed]"
          },
          "metadata": {
            "needs_background": "light"
          }
        }
      ]
    },
    {
      "cell_type": "code",
      "source": [
        "#display the first image in testing data\n",
        "plt.subplot(122)\n",
        "plt.imshow(test_x[0,:,:], cmap = 'gray')\n",
        "plt.title(\"ground truth: {}\".format(test_y[0]))"
      ],
      "metadata": {
        "colab": {
          "base_uri": "https://localhost:8080/",
          "height": 233
        },
        "id": "0d7SX7pXdSWJ",
        "outputId": "5de24373-5d91-4d1a-96ce-ecdb21801803"
      },
      "execution_count": null,
      "outputs": [
        {
          "output_type": "execute_result",
          "data": {
            "text/plain": [
              "Text(0.5, 1.0, 'ground truth: 7')"
            ]
          },
          "metadata": {},
          "execution_count": 7
        },
        {
          "output_type": "display_data",
          "data": {
            "text/plain": [
              "<Figure size 432x288 with 1 Axes>"
            ],
            "image/png": "[encoded data removed]"
          },
          "metadata": {
            "needs_background": "light"
          }
        }
      ]
    },
    {
      "cell_type": "code",
      "source": [
        "train_x = train_x.reshape(-1, 28, 28, 1)\n",
        "test_x = test_x.reshape(-1, 28, 28, 1)\n",
        "train_x.shape, test_x.shape"
      ],
      "metadata": {
        "colab": {
          "base_uri": "https://localhost:8080/"
        },
        "id": "0zLbE6z4d3vA",
        "outputId": "4635fc59-4da0-46af-92ae-c3738ddc0048"
      },
      "execution_count": null,
      "outputs": [
        {
          "output_type": "execute_result",
          "data": {
            "text/plain": [
              "((60000, 28, 28, 1), (10000, 28, 28, 1))"
            ]
          },
          "metadata": {},
          "execution_count": 8
        }
      ]
    },
    {
      "cell_type": "code",
      "source": [
        "#change the labels from catgoricals to one_hot encoding\n",
        "train_y_one_hot = to_categorical(train_y)\n",
        "test_y_one_hot = to_categorical(test_y)"
      ],
      "metadata": {
        "id": "UaHtURsWeMaN"
      },
      "execution_count": null,
      "outputs": []
    },
    {
      "cell_type": "code",
      "source": [
        "#display the change for category label using one_hot encoding\n",
        "print(\"Original label:\", train_y[0])\n",
        "print(\"After conversion to one_hot: \", train_y_one_hot[0])"
      ],
      "metadata": {
        "colab": {
          "base_uri": "https://localhost:8080/"
        },
        "id": "3_qL7YngerZ8",
        "outputId": "0e9538c9-30d0-4e43-ea72-ceef3a6105ab"
      },
      "execution_count": null,
      "outputs": [
        {
          "output_type": "stream",
          "name": "stdout",
          "text": [
            "Original label: 5\n",
            "After conversion to one_hot:  [0. 0. 0. 0. 0. 1. 0. 0. 0. 0.]\n"
          ]
        }
      ]
    },
    {
      "cell_type": "code",
      "source": [
        "from sklearn.model_selection import train_test_split"
      ],
      "metadata": {
        "id": "Fiy05S_WfIq-"
      },
      "execution_count": null,
      "outputs": []
    },
    {
      "cell_type": "code",
      "source": [
        "train_x, valid_x, train_label, valid_label = train_test_split(train_x, train_y_one_hot, test_size = 0.2, random_state = 13)"
      ],
      "metadata": {
        "id": "8EVH0vbjfSEx"
      },
      "execution_count": null,
      "outputs": []
    },
    {
      "cell_type": "code",
      "source": [
        "print(train_x.shape, valid_x.shape, valid_label.shape)"
      ],
      "metadata": {
        "colab": {
          "base_uri": "https://localhost:8080/"
        },
        "id": "bWZWD5rkz3fM",
        "outputId": "ee078c0e-2aa4-47d6-f699-3cf4256b1436"
      },
      "execution_count": null,
      "outputs": [
        {
          "output_type": "stream",
          "name": "stdout",
          "text": [
            "(48000, 28, 28, 1) (12000, 28, 28, 1) (12000, 10)\n"
          ]
        }
      ]
    },
    {
      "cell_type": "code",
      "source": [
        "batch_size = 64\n",
        "epochs = 3\n",
        "num_classes = 10\n",
        "m_model = Sequential()\n",
        "m_model.add(Conv2D(32, kernel_size = (3, 3), activation = 'linear', input_shape = (28, 28, 1), padding = 'same'))\n",
        "m_model.add(LeakyReLU(alpha = 0.1))\n",
        "m_model.add(MaxPooling2D((2, 2), padding = 'same'))\n",
        "m_model.add(Flatten())\n",
        "m_model.add(Dense(128, activation = 'linear'))\n",
        "m_model.add(LeakyReLU(alpha = 0.1))\n",
        "m_model.add(Dense(num_classes, activation = 'softmax'))"
      ],
      "metadata": {
        "id": "NWZFqwtW0KLh"
      },
      "execution_count": null,
      "outputs": []
    },
    {
      "cell_type": "code",
      "source": [
        "m_model.compile(loss = keras.losses.categorical_crossentropy, optimizer = keras.optimizers.Adam(), metrics = ['accuracy'])\n",
        "m_model.summary()"
      ],
      "metadata": {
        "colab": {
          "base_uri": "https://localhost:8080/"
        },
        "id": "WTz1dhRe1cBT",
        "outputId": "6a967d71-3dd7-49cc-a8fe-98d130bb08cd"
      },
      "execution_count": null,
      "outputs": [
        {
          "output_type": "stream",
          "name": "stdout",
          "text": [
            "Model: \"sequential\"\n",
            "_________________________________________________________________\n",
            " Layer (type)                Output Shape              Param #   \n",
            "=================================================================\n",
            " conv2d (Conv2D)             (None, 28, 28, 32)        320       \n",
            "                                                                 \n",
            " leaky_re_lu (LeakyReLU)     (None, 28, 28, 32)        0         \n",
            "                                                                 \n",
            " flatten (Flatten)           (None, 25088)             0         \n",
            "                                                                 \n",
            " dense (Dense)               (None, 128)               3211392   \n",
            "                                                                 \n",
            " leaky_re_lu_1 (LeakyReLU)   (None, 128)               0         \n",
            "                                                                 \n",
            " dense_1 (Dense)             (None, 10)                1290      \n",
            "                                                                 \n",
            "=================================================================\n",
            "Total params: 3,213,002\n",
            "Trainable params: 3,213,002\n",
            "Non-trainable params: 0\n",
            "_________________________________________________________________\n"
          ]
        }
      ]
    },
    {
      "cell_type": "code",
      "source": [
        "m_train = m_model.fit(train_x, train_label, batch_size = batch_size, epochs = epochs, verbose = 1, validation_data = (valid_x, valid_label))\n",
        "test_eval = m_model.evaluate(test_x, test_y_one_hot, verbose = 0)\n",
        "print(\"Test accuracy:\", test_eval[1])\n",
        "print(\"Test loss: \", test_eval[0])"
      ],
      "metadata": {
        "colab": {
          "base_uri": "https://localhost:8080/"
        },
        "id": "P9dM3puA2RoM",
        "outputId": "a87e0a67-ca39-45dd-b239-7621ce3b0485"
      },
      "execution_count": null,
      "outputs": [
        {
          "output_type": "stream",
          "name": "stdout",
          "text": [
            "Epoch 1/3\n",
            "750/750 [==============================] - 50s 66ms/step - loss: 3.1299 - accuracy: 0.9068 - val_loss: 0.3255 - val_accuracy: 0.9506\n",
            "Epoch 2/3\n",
            "750/750 [==============================] - 50s 67ms/step - loss: 0.1894 - accuracy: 0.9623 - val_loss: 0.2800 - val_accuracy: 0.9528\n",
            "Epoch 3/3\n",
            "750/750 [==============================] - 50s 66ms/step - loss: 0.1409 - accuracy: 0.9714 - val_loss: 0.2442 - val_accuracy: 0.9610\n",
            "Test accuracy: 0.9627000093460083\n",
            "Test loss:  0.22670771181583405\n"
          ]
        }
      ]
    },
    {
      "cell_type": "code",
      "source": [
        "accuracy = m_train.history['accuracy']\n",
        "val_accuracy = m_train.history['val_accuracy']\n",
        "loss = m_train.history['loss']\n",
        "val_loss = m_train.history['val_loss']\n",
        "epochs = range(len(accuracy))\n",
        "plt.plot(epochs, accuracy, '--', label = 'Training accuracy')\n",
        "plt.plot(epochs, val_accuracy, 'b', label = 'Validation accuracy')\n",
        "plt.title(\"Training and validation accuracy\")\n",
        "plt.legend()\n",
        "plt.figure()\n",
        "plt.plot(epochs, loss, '--', label = 'Training loss')\n",
        "plt.plot(epochs, val_loss, 'b', label = 'Validation loss')\n",
        "plt.title(\"Training and validation loss\")\n",
        "plt.legend()\n",
        "plt.show()"
      ],
      "metadata": {
        "colab": {
          "base_uri": "https://localhost:8080/",
          "height": 545
        },
        "id": "HSXB5sUx53bx",
        "outputId": "3007694f-2c02-4c57-f0ae-ee48b253b1db"
      },
      "execution_count": null,
      "outputs": [
        {
          "output_type": "display_data",
          "data": {
            "text/plain": [
              "<Figure size 432x288 with 1 Axes>"
            ],
            "image/png": "[encoded data removed]"
          },
          "metadata": {
            "needs_background": "light"
          }
        },
        {
          "output_type": "display_data",
          "data": {
            "text/plain": [
              "<Figure size 432x288 with 1 Axes>"
            ],
            "image/png": "[encoded data removed]"
          },
          "metadata": {
            "needs_background": "light"
          }
        }
      ]
    },
    {
      "cell_type": "code",
      "source": [
        "predicted_classes = m_model.predict(test_x)\n",
        "predicted_classes = np.argmax(np.round(predicted_classes),axis=1)\n",
        "predicted_classes.shape, test_y.shape"
      ],
      "metadata": {
        "colab": {
          "base_uri": "https://localhost:8080/"
        },
        "id": "6aTNKr-CBnTV",
        "outputId": "9f9fd5e7-e858-4e45-a955-511b34a686a9"
      },
      "execution_count": null,
      "outputs": [
        {
          "output_type": "stream",
          "name": "stdout",
          "text": [
            "313/313 [==============================] - 4s 12ms/step\n"
          ]
        },
        {
          "output_type": "execute_result",
          "data": {
            "text/plain": [
              "((10000,), (10000,))"
            ]
          },
          "metadata": {},
          "execution_count": 26
        }
      ]
    },
    {
      "cell_type": "code",
      "source": [
        "from sklearn.metrics import classification_report\n",
        "target_names = [\"Class {}\".format(i) for i in range(num_classes)]\n",
        "print(classification_report(test_y, predicted_classes, target_names = target_names))"
      ],
      "metadata": {
        "colab": {
          "base_uri": "https://localhost:8080/"
        },
        "id": "qUJEkux-9R_E",
        "outputId": "b3d36962-ca86-44c4-8ba9-00b66e362f9c"
      },
      "execution_count": null,
      "outputs": [
        {
          "output_type": "stream",
          "name": "stdout",
          "text": [
            "              precision    recall  f1-score   support\n",
            "\n",
            "     Class 0       0.98      0.96      0.97       980\n",
            "     Class 1       0.99      0.97      0.98      1135\n",
            "     Class 2       0.93      0.98      0.96      1032\n",
            "     Class 3       0.97      0.96      0.96      1010\n",
            "     Class 4       0.97      0.97      0.97       982\n",
            "     Class 5       0.95      0.98      0.96       892\n",
            "     Class 6       0.98      0.96      0.97       958\n",
            "     Class 7       0.97      0.95      0.96      1028\n",
            "     Class 8       0.92      0.95      0.94       974\n",
            "     Class 9       0.96      0.95      0.96      1009\n",
            "\n",
            "    accuracy                           0.96     10000\n",
            "   macro avg       0.96      0.96      0.96     10000\n",
            "weighted avg       0.96      0.96      0.96     10000\n",
            "\n"
          ]
        }
      ]
    }
  ]
}