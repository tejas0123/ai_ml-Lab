{
 "cells": [
  {
   "cell_type": "code",
   "execution_count": 1,
   "id": "6ec4f45a",
   "metadata": {},
   "outputs": [],
   "source": [
    "#importing libraries \n",
    "import numpy as np\n",
    "import pandas as pd\n",
    "import matplotlib.pyplot as plt\n",
    "from mpl_toolkits.mplot3d import Axes3D\n"
   ]
  },
  {
   "cell_type": "code",
   "execution_count": 2,
   "id": "d5021c20",
   "metadata": {},
   "outputs": [
    {
     "name": "stdout",
     "output_type": "stream",
     "text": [
      "(1000, 3)\n"
     ]
    },
    {
     "data": {
      "text/html": [
       "<div>\n",
       "<style scoped>\n",
       "    .dataframe tbody tr th:only-of-type {\n",
       "        vertical-align: middle;\n",
       "    }\n",
       "\n",
       "    .dataframe tbody tr th {\n",
       "        vertical-align: top;\n",
       "    }\n",
       "\n",
       "    .dataframe thead th {\n",
       "        text-align: right;\n",
       "    }\n",
       "</style>\n",
       "<table border=\"1\" class=\"dataframe\">\n",
       "  <thead>\n",
       "    <tr style=\"text-align: right;\">\n",
       "      <th></th>\n",
       "      <th>Math</th>\n",
       "      <th>Reading</th>\n",
       "      <th>Writing</th>\n",
       "    </tr>\n",
       "  </thead>\n",
       "  <tbody>\n",
       "    <tr>\n",
       "      <th>0</th>\n",
       "      <td>48</td>\n",
       "      <td>68</td>\n",
       "      <td>63</td>\n",
       "    </tr>\n",
       "    <tr>\n",
       "      <th>1</th>\n",
       "      <td>62</td>\n",
       "      <td>81</td>\n",
       "      <td>72</td>\n",
       "    </tr>\n",
       "    <tr>\n",
       "      <th>2</th>\n",
       "      <td>79</td>\n",
       "      <td>80</td>\n",
       "      <td>78</td>\n",
       "    </tr>\n",
       "    <tr>\n",
       "      <th>3</th>\n",
       "      <td>76</td>\n",
       "      <td>83</td>\n",
       "      <td>79</td>\n",
       "    </tr>\n",
       "    <tr>\n",
       "      <th>4</th>\n",
       "      <td>59</td>\n",
       "      <td>64</td>\n",
       "      <td>62</td>\n",
       "    </tr>\n",
       "  </tbody>\n",
       "</table>\n",
       "</div>"
      ],
      "text/plain": [
       "   Math  Reading  Writing\n",
       "0    48       68       63\n",
       "1    62       81       72\n",
       "2    79       80       78\n",
       "3    76       83       79\n",
       "4    59       64       62"
      ]
     },
     "execution_count": 2,
     "metadata": {},
     "output_type": "execute_result"
    }
   ],
   "source": [
    "data = pd.read_csv('student.csv')\n",
    "print(data.shape)\n",
    "data.head()"
   ]
  },
  {
   "cell_type": "code",
   "execution_count": 6,
   "id": "c6dc7672",
   "metadata": {},
   "outputs": [],
   "source": [
    "math = data['Math'].values\n",
    "read = data['Reading'].values\n",
    "write = data['Writing'].values\n"
   ]
  },
  {
   "cell_type": "code",
   "execution_count": 7,
   "id": "2783ed6b",
   "metadata": {},
   "outputs": [
    {
     "data": {
      "text/plain": [
       "<Figure size 640x480 with 0 Axes>"
      ]
     },
     "metadata": {},
     "output_type": "display_data"
    }
   ],
   "source": [
    "#plotting the figure as scatter plot\n",
    "fig = plt.figure()\n",
    "ax = Axes3D(fig)\n",
    "ax.scatter(math, read, write, color = '#ef1234')\n",
    "plt.legend\n",
    "plt.show()\n",
    "\n"
   ]
  },
  {
   "cell_type": "code",
   "execution_count": 8,
   "id": "02c1ec1c",
   "metadata": {},
   "outputs": [
    {
     "name": "stdout",
     "output_type": "stream",
     "text": [
      "1000\n"
     ]
    }
   ],
   "source": [
    "m = len(math)\n",
    "print(m)\n",
    "x0 = np.ones(m)\n",
    "\n"
   ]
  },
  {
   "cell_type": "code",
   "execution_count": 9,
   "id": "b012394c",
   "metadata": {},
   "outputs": [
    {
     "name": "stdout",
     "output_type": "stream",
     "text": [
      "[[ 1. 48. 68.]\n",
      " [ 1. 62. 81.]\n",
      " [ 1. 79. 80.]\n",
      " ...\n",
      " [ 1. 89. 87.]\n",
      " [ 1. 83. 82.]\n",
      " [ 1. 66. 66.]]\n"
     ]
    }
   ],
   "source": [
    "X = np.array([x0, math, read]).T\n",
    "print(X)"
   ]
  },
  {
   "cell_type": "code",
   "execution_count": 10,
   "id": "bc59400b",
   "metadata": {},
   "outputs": [],
   "source": [
    "#initital co-efficients\n",
    "B = np.array([0,0,0])\n",
    "Y = np.array(write)\n",
    "alpha = 0.0001\n",
    "def cost_function(X,Y,B):\n",
    "    m = len(Y)\n",
    "    J = np.sum((X.dot(B)-Y)**2)/(2*m)\n",
    "    return J"
   ]
  },
  {
   "cell_type": "code",
   "execution_count": 11,
   "id": "020103f9",
   "metadata": {},
   "outputs": [
    {
     "name": "stdout",
     "output_type": "stream",
     "text": [
      "initial Cost\n",
      "2470.11\n"
     ]
    }
   ],
   "source": [
    "initial_cost = cost_function(X,Y,B)\n",
    "print(\"initial Cost\")\n",
    "print(initial_cost)"
   ]
  },
  {
   "cell_type": "code",
   "execution_count": 14,
   "id": "4c61a61f",
   "metadata": {},
   "outputs": [],
   "source": [
    "def gradient_descent(X,Y,B,alpha,iterations):\n",
    "    cost_history = [0]* iterations\n",
    "    m = len(Y)\n",
    "    for iteration in range(iterations):\n",
    "        #Hypothesis values\n",
    "        h = X.dot(B)\n",
    "        #difference between Hypothesis and actual Y\n",
    "        loss = h-Y\n",
    "        #Gradient calculation\n",
    "        gradient = X.T.dot(loss)/m\n",
    "\n",
    "        #changing values of B using gradient\n",
    "        B = B-alpha*gradient\n",
    "        cost = cost_function(X,Y,B)\n",
    "        cost_history[iteration] = cost\n",
    "    return B, cost_history"
   ]
  },
  {
   "cell_type": "code",
   "execution_count": 15,
   "id": "cf3e63bb",
   "metadata": {},
   "outputs": [
    {
     "name": "stdout",
     "output_type": "stream",
     "text": [
      "New co-efficients\n",
      "[-0.47889172  0.09137252  0.90144884]\n",
      "Final cost\n",
      "[-0.47889172  0.09137252  0.90144884]\n"
     ]
    }
   ],
   "source": [
    "#100000 iteration\n",
    "newB, cost_history = gradient_descent(X,Y,B,alpha,100000)\n",
    "\n",
    "#new values of B\n",
    "print(\"New co-efficients\")\n",
    "print(newB)\n",
    "\n",
    "# Final cost of newB\n",
    "print(\"Final cost\")\n",
    "print(newB)"
   ]
  },
  {
   "cell_type": "code",
   "execution_count": 32,
   "id": "58f6faed",
   "metadata": {},
   "outputs": [
    {
     "name": "stdout",
     "output_type": "stream",
     "text": [
      "10.475123473539167\n"
     ]
    }
   ],
   "source": [
    "print(cost_history[-1])"
   ]
  },
  {
   "cell_type": "code",
   "execution_count": 16,
   "id": "9c58b14e",
   "metadata": {},
   "outputs": [],
   "source": [
    "#model evaluation-RMSE\n",
    "def rmse(Y, Y_pred):\n",
    "    rmse = np.sqrt(sum((Y-Y_pred)**2)/len(Y))\n",
    "    return rmse"
   ]
  },
  {
   "cell_type": "code",
   "execution_count": 17,
   "id": "2b0e8659",
   "metadata": {},
   "outputs": [],
   "source": [
    "#model evaluation R^2 score\n",
    "def r2_score(Y, Y_pred):\n",
    "    mean_y = np.mean(Y)\n",
    "    ss_tot = sum((Y-mean_y)**2)\n",
    "    ss_res = sum((Y-Y_pred)**2)\n",
    "    r2 = 1-(ss_res/ss_tot)\n",
    "    return r2"
   ]
  },
  {
   "cell_type": "code",
   "execution_count": 18,
   "id": "da31b89b",
   "metadata": {},
   "outputs": [
    {
     "name": "stdout",
     "output_type": "stream",
     "text": [
      "R^2 score\n",
      "0.9097223273061553\n"
     ]
    }
   ],
   "source": [
    "Y_pred = X.dot(newB)\n",
    "print(\"R^2 score\")\n",
    "print(r2_score(Y, Y_pred))\n"
   ]
  },
  {
   "cell_type": "code",
   "execution_count": null,
   "id": "63e934eb",
   "metadata": {},
   "outputs": [],
   "source": []
  }
 ],
 "metadata": {
  "kernelspec": {
   "display_name": "Python 3 (ipykernel)",
   "language": "python",
   "name": "python3"
  },
  "language_info": {
   "codemirror_mode": {
    "name": "ipython",
    "version": 3
   },
   "file_extension": ".py",
   "mimetype": "text/x-python",
   "name": "python",
   "nbconvert_exporter": "python",
   "pygments_lexer": "ipython3",
   "version": "3.11.0"
  }
 },
 "nbformat": 4,
 "nbformat_minor": 5
}
