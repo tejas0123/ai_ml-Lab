{
 "cells": [
  {
   "cell_type": "code",
   "execution_count": 2,
   "id": "efffbbd6",
   "metadata": {},
   "outputs": [],
   "source": [
    "import numpy as np\n",
    "from functools import reduce"
   ]
  },
  {
   "cell_type": "code",
   "execution_count": 3,
   "id": "ded4ecac",
   "metadata": {},
   "outputs": [],
   "source": [
    "def perceptron(weight, bias, x):\n",
    "    model = np.add(np.dot(x, weight), bias)\n",
    "    print('model: {}'.format(model))\n",
    "    logit = 1/(1 + np.exp(-model))\n",
    "    print('Type: {}'.format(logit))\n",
    "    return np.round(logit)"
   ]
  },
  {
   "cell_type": "code",
   "execution_count": 4,
   "id": "fbdf45c7",
   "metadata": {},
   "outputs": [],
   "source": [
    "def compute(logictype, weightdict, dataset):\n",
    "    weights = np.array([weightdict[logictype][w] for w in weightdict[logictype].keys()])\n",
    "    output = np.array([perceptron(weights, weightdict['bias'][logictype], val) for val in dataset])\n",
    "    print(logictype)\n",
    "    return logictype, output"
   ]
  },
  {
   "cell_type": "code",
   "execution_count": 5,
   "id": "ad793681",
   "metadata": {},
   "outputs": [],
   "source": [
    "def main():\n",
    "    logic = {\n",
    "                'logic_and':{\n",
    "                'w0': -0.1,\n",
    "                'w1': 0.2,\n",
    "                'w2': 0.2\n",
    "                },\n",
    "\n",
    "                'logic_nand':{\n",
    "                    'w0': 0.6,\n",
    "                    'w1': -0.8,\n",
    "                    'w2': -0.8\n",
    "                },\n",
    "\n",
    "                'bias':{\n",
    "                    'logic_and': -0.2,\n",
    "                    'logic_nand':0.3 \n",
    "                }\n",
    "            }\n",
    "    \n",
    "    dataset = np.array([\n",
    "        [1, 0, 0],\n",
    "        [1, 0, 1],\n",
    "        [1, 1, 0],\n",
    "        [1, 1, 1]\n",
    "    ])\n",
    "    \n",
    "    logic_and = compute('logic_and', logic, dataset)\n",
    "    logic_nand = compute('logic_nand', logic, dataset)\n",
    "    \n",
    "    def template(dataset, name, data):\n",
    "        print(\"Logic Function: {}\".format(name[6:].upper()))\n",
    "        print(\"X0\\tX1\\tY\")\n",
    "        toPrint = [\"{1}\\t{2}\\t{3}\\t{0}\".format(output, *datas) for datas, output in zip(dataset, data)]\n",
    "        for i in toPrint:\n",
    "            print(i)\n",
    "    gates = [logic_and, logic_nand]\n",
    "    for i in gates:\n",
    "        template(dataset, *i)\n",
    "    \n",
    "    "
   ]
  },
  {
   "cell_type": "code",
   "execution_count": 6,
   "id": "f5fc2ee6",
   "metadata": {},
   "outputs": [
    {
     "name": "stdout",
     "output_type": "stream",
     "text": [
      "model: -0.30000000000000004\n",
      "Type: 0.425557483188341\n",
      "model: -0.1\n",
      "Type: 0.47502081252106\n",
      "model: -0.1\n",
      "Type: 0.47502081252106\n",
      "model: 0.10000000000000003\n",
      "Type: 0.52497918747894\n",
      "logic_and\n",
      "model: 0.8999999999999999\n",
      "Type: 0.7109495026250039\n",
      "model: 0.09999999999999992\n",
      "Type: 0.5249791874789399\n",
      "model: 0.09999999999999992\n",
      "Type: 0.5249791874789399\n",
      "model: -0.7\n",
      "Type: 0.3318122278318339\n",
      "logic_nand\n",
      "Logic Function: AND\n",
      "X0\tX1\tY\n",
      "1\t0\t0\t0.0\n",
      "1\t0\t1\t0.0\n",
      "1\t1\t0\t0.0\n",
      "1\t1\t1\t1.0\n",
      "Logic Function: NAND\n",
      "X0\tX1\tY\n",
      "1\t0\t0\t1.0\n",
      "1\t0\t1\t1.0\n",
      "1\t1\t0\t1.0\n",
      "1\t1\t1\t0.0\n"
     ]
    }
   ],
   "source": [
    "if __name__ == '__main__':\n",
    "    main()"
   ]
  },
  {
   "cell_type": "code",
   "execution_count": null,
   "id": "4c7bc3fd",
   "metadata": {},
   "outputs": [],
   "source": []
  }
 ],
 "metadata": {
  "kernelspec": {
   "display_name": "Python 3 (ipykernel)",
   "language": "python",
   "name": "python3"
  },
  "language_info": {
   "codemirror_mode": {
    "name": "ipython",
    "version": 3
   },
   "file_extension": ".py",
   "mimetype": "text/x-python",
   "name": "python",
   "nbconvert_exporter": "python",
   "pygments_lexer": "ipython3",
   "version": "3.10.6"
  }
 },
 "nbformat": 4,
 "nbformat_minor": 5
}
