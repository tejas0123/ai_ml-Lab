{
 "cells": [
  {
   "cell_type": "code",
   "execution_count": 5,
   "id": "049ebeb1",
   "metadata": {},
   "outputs": [],
   "source": [
    "from sklearn.datasets import make_moons\n",
    "from sklearn.pipeline import Pipeline\n",
    "from sklearn.preprocessing import PolynomialFeatures\n",
    "from sklearn.preprocessing import StandardScaler\n",
    "from sklearn.svm import SVC"
   ]
  },
  {
   "cell_type": "code",
   "execution_count": 6,
   "id": "5805984e",
   "metadata": {},
   "outputs": [
    {
     "name": "stdout",
     "output_type": "stream",
     "text": [
      "\n",
      "    from sklearn.datasets import make_moons\n",
      "from sklearn.pipeline import Pipeline\n",
      "from sklearn.preprocessing import PolynomialFeatures\n",
      "from sklearn.preprocessing import StandardScaler\n",
      "from sklearn.svm import SVC\n",
      "\n",
      "import numpy as np\n",
      "import matplotlib\n",
      "import matplotlib.pyplot as plt\n",
      "\n",
      "from sklearn.datasets import make_moons\n",
      "X, y = make_moons(n_samples=100, noise=0.15, random_state=42)\n",
      "def plot_dataset(X, y, axes):\n",
      "    plt.plot(X[:, 0][y==0], X[:, 1][y==0], \"rs\")\n",
      "    plt.plot(X[:, 0][y==1], X[:, 1][y==1], \"ms\")\n",
      "    plt.axis(axes)\n",
      "    plt.grid(True, which='both')\n",
      "    plt.xlabel('X1', fontsize=20)\n",
      "    plt.ylabel('X2', fontsize=20, rotation=0)\n",
      "\n",
      "plot_dataset(X, y, [-1.5, 2.5, -1, 1.5])\n",
      "plt.show()\n",
      "\n",
      "def plot_predictions(clf, axes):\n",
      "    x0s = np.linspace(axes[0], axes[1], 100)\n",
      "    x1s = np.linspace(axes[2], axes[3], 100)\n",
      "    x0, x1 = np.meshgrid(x0s, x1s)\n",
      "    X = np.c_[x0.ravel(), x1.ravel()]\n",
      "    y_pred = clf.predict(X).reshape(x0.shape)\n",
      "    y_decision = clf.decision_function(X).reshape(x0.shape)\n",
      "    plt.contourf(x0, x1, y_pred, cmap=plt.cm.brg, alpha=0.2)\n",
      "    plt.contourf(x0, x1, y_decision, cmap=plt.cm.brg, alpha=0.1)\n",
      "\n",
      "polynomial_svm_clf = Pipeline((\n",
      "    (\"poly_features\", PolynomialFeatures(degree=3)),\n",
      "    (\"scalar\", StandardScaler()),\n",
      "    (\"svm_clf\", SVC(kernel=\"poly\", degree=10, coef0=1, C=5)) \n",
      "))\n",
      "\n",
      "polynomial_svm_clf.fit(X,y)\n",
      "\n",
      "plt.figure(figsize=(11, 4))\n",
      "plot_predictions(polynomial_svm_clf, [-1.5, 2.5, -1, 1.5])\n",
      "plot_dataset(X, y, [-1.5, 2.5, -1, 1.5])\n",
      "\n",
      "plt.title(\"d=3, coef0=1, C=5\", fontsize=18)\n",
      "plt.show()\n",
      "\n"
     ]
    }
   ],
   "source": [
    "from pendes import *\n",
    "print(print5b())"
   ]
  },
  {
   "cell_type": "code",
   "execution_count": null,
   "id": "df949afa",
   "metadata": {},
   "outputs": [],
   "source": []
  }
 ],
 "metadata": {
  "kernelspec": {
   "display_name": "Python 3 (ipykernel)",
   "language": "python",
   "name": "python3"
  },
  "language_info": {
   "codemirror_mode": {
    "name": "ipython",
    "version": 3
   },
   "file_extension": ".py",
   "mimetype": "text/x-python",
   "name": "python",
   "nbconvert_exporter": "python",
   "pygments_lexer": "ipython3",
   "version": "3.11.0"
  }
 },
 "nbformat": 4,
 "nbformat_minor": 5
}
