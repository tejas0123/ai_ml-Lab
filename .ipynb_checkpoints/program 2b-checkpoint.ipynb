{
 "cells": [
  {
   "cell_type": "code",
   "execution_count": 3,
   "id": "1dad6947",
   "metadata": {},
   "outputs": [],
   "source": [
    "import numpy as np\n",
    "import pandas as pd\n",
    "import matplotlib.pyplot as plt\n",
    "%matplotlib inline"
   ]
  },
  {
   "cell_type": "code",
   "execution_count": 7,
   "id": "ba2a859a",
   "metadata": {},
   "outputs": [
    {
     "data": {
      "text/html": [
       "<div>\n",
       "<style scoped>\n",
       "    .dataframe tbody tr th:only-of-type {\n",
       "        vertical-align: middle;\n",
       "    }\n",
       "\n",
       "    .dataframe tbody tr th {\n",
       "        vertical-align: top;\n",
       "    }\n",
       "\n",
       "    .dataframe thead th {\n",
       "        text-align: right;\n",
       "    }\n",
       "</style>\n",
       "<table border=\"1\" class=\"dataframe\">\n",
       "  <thead>\n",
       "    <tr style=\"text-align: right;\">\n",
       "      <th></th>\n",
       "      <th>AREA</th>\n",
       "      <th>PRICE</th>\n",
       "    </tr>\n",
       "  </thead>\n",
       "  <tbody>\n",
       "    <tr>\n",
       "      <th>0</th>\n",
       "      <td>1000</td>\n",
       "      <td>5618</td>\n",
       "    </tr>\n",
       "    <tr>\n",
       "      <th>1</th>\n",
       "      <td>1030</td>\n",
       "      <td>5201</td>\n",
       "    </tr>\n",
       "    <tr>\n",
       "      <th>2</th>\n",
       "      <td>1060</td>\n",
       "      <td>4779</td>\n",
       "    </tr>\n",
       "    <tr>\n",
       "      <th>3</th>\n",
       "      <td>1090</td>\n",
       "      <td>5425</td>\n",
       "    </tr>\n",
       "    <tr>\n",
       "      <th>4</th>\n",
       "      <td>1120</td>\n",
       "      <td>5657</td>\n",
       "    </tr>\n",
       "  </tbody>\n",
       "</table>\n",
       "</div>"
      ],
      "text/plain": [
       "   AREA  PRICE\n",
       "0  1000   5618\n",
       "1  1030   5201\n",
       "2  1060   4779\n",
       "3  1090   5425\n",
       "4  1120   5657"
      ]
     },
     "execution_count": 7,
     "metadata": {},
     "output_type": "execute_result"
    }
   ],
   "source": [
    "df = pd.read_csv(\"housing_prices_SLR.csv\", delimiter = ',')\n",
    "df.head()"
   ]
  },
  {
   "cell_type": "code",
   "execution_count": 8,
   "id": "67f039da",
   "metadata": {},
   "outputs": [
    {
     "data": {
      "text/plain": [
       "0     1000\n",
       "1     1030\n",
       "2     1060\n",
       "3     1090\n",
       "4     1120\n",
       "5     1150\n",
       "6     1180\n",
       "7     1210\n",
       "8     1240\n",
       "9     1270\n",
       "10    1300\n",
       "11    1330\n",
       "12    1360\n",
       "13    1390\n",
       "14    1420\n",
       "15    1450\n",
       "16    1480\n",
       "17    1510\n",
       "18    1540\n",
       "19    1570\n",
       "20    1600\n",
       "21    1630\n",
       "22    1660\n",
       "23    1690\n",
       "24    1720\n",
       "25    1750\n",
       "26    1780\n",
       "27    1810\n",
       "28    1840\n",
       "29    1870\n",
       "30    1900\n",
       "31    1930\n",
       "32    1960\n",
       "33    1990\n",
       "34    2020\n",
       "35    2050\n",
       "36    2080\n",
       "37    2110\n",
       "38    2140\n",
       "39    2170\n",
       "40    2200\n",
       "41    2230\n",
       "42    2260\n",
       "43    2290\n",
       "44    2320\n",
       "45    2350\n",
       "46    2380\n",
       "47    2410\n",
       "48    2440\n",
       "49    2470\n",
       "Name: AREA, dtype: int64"
      ]
     },
     "execution_count": 8,
     "metadata": {},
     "output_type": "execute_result"
    }
   ],
   "source": [
    "df.AREA\n"
   ]
  },
  {
   "cell_type": "code",
   "execution_count": 9,
   "id": "0fa22168",
   "metadata": {},
   "outputs": [
    {
     "data": {
      "text/plain": [
       "0      5618\n",
       "1      5201\n",
       "2      4779\n",
       "3      5425\n",
       "4      5657\n",
       "5      4945\n",
       "6      6475\n",
       "7      5352\n",
       "8      6290\n",
       "9      6147\n",
       "10     7718\n",
       "11     7035\n",
       "12     8712\n",
       "13     9457\n",
       "14     7304\n",
       "15     7535\n",
       "16     9968\n",
       "17     7614\n",
       "18     9762\n",
       "19    10067\n",
       "20     8074\n",
       "21    10201\n",
       "22    10051\n",
       "23     9775\n",
       "24    10229\n",
       "25     8314\n",
       "26     9288\n",
       "27    10503\n",
       "28     9763\n",
       "29    11527\n",
       "30     9912\n",
       "31    10204\n",
       "32     9085\n",
       "33    10240\n",
       "34    15220\n",
       "35    12278\n",
       "36    22270\n",
       "37    12574\n",
       "38    12618\n",
       "39    15457\n",
       "40    12793\n",
       "41    12641\n",
       "42    17207\n",
       "43    16969\n",
       "44    16293\n",
       "45    16845\n",
       "46    17604\n",
       "47    17310\n",
       "48    14036\n",
       "49    13699\n",
       "Name: PRICE, dtype: int64"
      ]
     },
     "execution_count": 9,
     "metadata": {},
     "output_type": "execute_result"
    }
   ],
   "source": [
    "df.PRICE\n"
   ]
  },
  {
   "cell_type": "code",
   "execution_count": 10,
   "id": "32ef21bf",
   "metadata": {},
   "outputs": [
    {
     "data": {
      "image/png": "[encoded data removed]",
      "text/plain": [
       "<Figure size 432x288 with 1 Axes>"
      ]
     },
     "metadata": {
      "needs_background": "light"
     },
     "output_type": "display_data"
    }
   ],
   "source": [
    "plt.scatter(df.AREA, df.PRICE, c = 'blue')\n",
    "plt.show()"
   ]
  },
  {
   "cell_type": "code",
   "execution_count": 12,
   "id": "5a6de942",
   "metadata": {},
   "outputs": [
    {
     "data": {
      "image/png": "[encoded data removed]",
      "text/plain": [
       "<Figure size 432x288 with 1 Axes>"
      ]
     },
     "metadata": {
      "needs_background": "light"
     },
     "output_type": "display_data"
    }
   ],
   "source": [
    "plt.scatter(df.AREA, df.PRICE, c = np.random.random(df.shape[0]))\n",
    "plt.show()"
   ]
  },
  {
   "cell_type": "code",
   "execution_count": 15,
   "id": "8e64ed3e",
   "metadata": {},
   "outputs": [
    {
     "data": {
      "text/plain": [
       "array([0.40145995, 0.61553071, 0.57175816, 0.08880297, 0.12158839,\n",
       "       0.97088393, 0.99450052, 0.50104532, 0.3005924 , 0.36821882,\n",
       "       0.2589818 , 0.94553652, 0.2959805 , 0.93383981, 0.81927971,\n",
       "       0.81909217, 0.92615   , 0.75373882, 0.92170033, 0.84631928,\n",
       "       0.13669447, 0.4778056 , 0.20382948, 0.45592291, 0.39061162,\n",
       "       0.05586175, 0.0364949 , 0.67536019, 0.91153327, 0.00504984,\n",
       "       0.70690354, 0.83878528, 0.38169381, 0.37452686, 0.8967557 ,\n",
       "       0.4149839 , 0.76189922, 0.98802085, 0.30464529, 0.07762826,\n",
       "       0.45852651, 0.89940895, 0.7683031 , 0.76312756, 0.36349014,\n",
       "       0.23312394, 0.65177445, 0.64938759, 0.06437484, 0.3891553 ])"
      ]
     },
     "execution_count": 15,
     "metadata": {},
     "output_type": "execute_result"
    }
   ],
   "source": [
    "df.shape\n",
    "col = np.random.random(df.shape[0])\n",
    "col"
   ]
  },
  {
   "cell_type": "code",
   "execution_count": 19,
   "id": "185c7095",
   "metadata": {},
   "outputs": [
    {
     "data": {
      "image/png": "[encoded data removed]",
      "text/plain": [
       "<Figure size 432x288 with 1 Axes>"
      ]
     },
     "metadata": {
      "needs_background": "light"
     },
     "output_type": "display_data"
    }
   ],
   "source": [
    "plt.scatter(df.AREA, df.PRICE, c = col, s = 5)\n",
    "plt.show()"
   ]
  },
  {
   "cell_type": "code",
   "execution_count": 23,
   "id": "48ee79d0",
   "metadata": {},
   "outputs": [],
   "source": [
    "x = df[['AREA']].values\n",
    "y = df.PRICE.values"
   ]
  },
  {
   "cell_type": "code",
   "execution_count": 24,
   "id": "fcc804b6",
   "metadata": {},
   "outputs": [
    {
     "data": {
      "text/plain": [
       "array([5618, 5201, 4779, 5425, 5657], dtype=int64)"
      ]
     },
     "execution_count": 24,
     "metadata": {},
     "output_type": "execute_result"
    }
   ],
   "source": [
    "x[:5]\n",
    "y[:5]"
   ]
  },
  {
   "cell_type": "code",
   "execution_count": 25,
   "id": "f2f47176",
   "metadata": {},
   "outputs": [
    {
     "name": "stdout",
     "output_type": "stream",
     "text": [
      "[[1000]\n",
      " [1030]\n",
      " [1060]\n",
      " [1090]\n",
      " [1120]]\n",
      "[5618 5201 4779 5425 5657]\n"
     ]
    }
   ],
   "source": [
    "print(x[:5])\n",
    "print(y[:5])"
   ]
  },
  {
   "cell_type": "code",
   "execution_count": 26,
   "id": "f3b865af",
   "metadata": {},
   "outputs": [],
   "source": [
    "from sklearn.model_selection import train_test_split"
   ]
  },
  {
   "cell_type": "code",
   "execution_count": 27,
   "id": "5be77044",
   "metadata": {},
   "outputs": [],
   "source": [
    "x_train, x_test, y_train, y_test = train_test_split(x,y,test_size=0.2, random_state = 100)"
   ]
  },
  {
   "cell_type": "code",
   "execution_count": 28,
   "id": "b6605bdb",
   "metadata": {},
   "outputs": [
    {
     "name": "stdout",
     "output_type": "stream",
     "text": [
      "(40, 1)\n",
      "(10, 1)\n",
      "(40, 1)\n",
      "(10, 1)\n"
     ]
    }
   ],
   "source": [
    "print(x_train.shape)\n",
    "print(x_test.shape)\n",
    "print(x_train.shape)\n",
    "print(x_test.shape)"
   ]
  },
  {
   "cell_type": "code",
   "execution_count": 29,
   "id": "fe24b355",
   "metadata": {},
   "outputs": [],
   "source": [
    "from sklearn.linear_model import LinearRegression"
   ]
  },
  {
   "cell_type": "code",
   "execution_count": 39,
   "id": "b002bbad",
   "metadata": {},
   "outputs": [],
   "source": [
    "lr_model = LinearRegression()"
   ]
  },
  {
   "cell_type": "code",
   "execution_count": 40,
   "id": "b5db7277",
   "metadata": {},
   "outputs": [
    {
     "data": {
      "text/plain": [
       "LinearRegression()"
      ]
     },
     "execution_count": 40,
     "metadata": {},
     "output_type": "execute_result"
    }
   ],
   "source": [
    "lr_model.fit(x_train, y_train)"
   ]
  },
  {
   "cell_type": "code",
   "execution_count": 41,
   "id": "ade2366d",
   "metadata": {},
   "outputs": [
    {
     "name": "stdout",
     "output_type": "stream",
     "text": [
      "-3103.34066448488\n",
      "[7.75979089]\n"
     ]
    }
   ],
   "source": [
    "print(lr_model.intercept_)\n",
    "print(lr_model.coef_)"
   ]
  },
  {
   "cell_type": "code",
   "execution_count": 42,
   "id": "aec1e8d9",
   "metadata": {},
   "outputs": [
    {
     "data": {
      "text/plain": [
       "LinearRegression()"
      ]
     },
     "execution_count": 42,
     "metadata": {},
     "output_type": "execute_result"
    }
   ],
   "source": [
    "lr_model.fit(x_train, y_train)"
   ]
  },
  {
   "cell_type": "code",
   "execution_count": 43,
   "id": "68451a16",
   "metadata": {},
   "outputs": [
    {
     "name": "stdout",
     "output_type": "stream",
     "text": [
      "-3103.34066448488\n",
      "[7.75979089]\n"
     ]
    }
   ],
   "source": [
    "print(lr_model.intercept_)\n",
    "print(lr_model.coef_)"
   ]
  },
  {
   "cell_type": "code",
   "execution_count": 44,
   "id": "7eead477",
   "metadata": {},
   "outputs": [
    {
     "data": {
      "text/plain": [
       "array([12416.24111714, 16296.13656255])"
      ]
     },
     "execution_count": 44,
     "metadata": {},
     "output_type": "execute_result"
    }
   ],
   "source": [
    "lr_model.predict(np.array([[2000], [2500]]))"
   ]
  },
  {
   "cell_type": "code",
   "execution_count": 45,
   "id": "acaa7367",
   "metadata": {},
   "outputs": [],
   "source": [
    "from sklearn.metrics import r2_score"
   ]
  },
  {
   "cell_type": "code",
   "execution_count": 46,
   "id": "276316f5",
   "metadata": {},
   "outputs": [
    {
     "data": {
      "text/plain": [
       "array([ 5618,  7035,  9762, 16845, 12618,  8314,  9288, 12278,  7614,\n",
       "        5352, 17310, 10204,  9085, 10067, 10201,  9457,  5201,  5657,\n",
       "        8712, 10503, 12793, 10051, 11527,  6147,  9968, 16293, 14036,\n",
       "       17604,  7304, 12641,  4779, 15220,  9912,  7718,  7535,  9775,\n",
       "       15457,  5425, 10229,  6290], dtype=int64)"
      ]
     },
     "execution_count": 46,
     "metadata": {},
     "output_type": "execute_result"
    }
   ],
   "source": [
    "y_train"
   ]
  },
  {
   "cell_type": "code",
   "execution_count": 47,
   "id": "3b8bdefc",
   "metadata": {},
   "outputs": [
    {
     "data": {
      "text/plain": [
       "array([ 4656.45022633,  7217.1812203 ,  8846.73730737, 15132.16792893,\n",
       "       13502.61184186, 10476.29339444, 10709.08712116, 12804.23066168,\n",
       "        8613.94358064,  6286.0063134 , 15597.75538238, 11873.05575479,\n",
       "       12105.84948151,  9079.53103409,  9545.11848754,  7682.76867375,\n",
       "        4889.24395305,  5587.62513323,  7449.97494702, 10941.88084789,\n",
       "       13968.19929531,  9777.91221427, 11407.46830134,  6751.59376685,\n",
       "        8381.14985392, 14899.3742022 , 15830.5491091 , 15364.96165565,\n",
       "        7915.56240047, 14200.99302203,  5122.03767978, 12571.43693496,\n",
       "       11640.26202806,  6984.38749357,  8148.3561272 , 10010.70594099,\n",
       "       13735.40556858,  5354.8314065 , 10243.49966772,  6518.80004012])"
      ]
     },
     "execution_count": 47,
     "metadata": {},
     "output_type": "execute_result"
    }
   ],
   "source": [
    "lr_model.predict(x_train)"
   ]
  },
  {
   "cell_type": "code",
   "execution_count": 48,
   "id": "77618712",
   "metadata": {},
   "outputs": [
    {
     "data": {
      "text/plain": [
       "0.570954870212099"
      ]
     },
     "execution_count": 48,
     "metadata": {},
     "output_type": "execute_result"
    }
   ],
   "source": [
    "r2_score(y_test, lr_model.predict(x_test))"
   ]
  },
  {
   "cell_type": "code",
   "execution_count": 49,
   "id": "0ead2c06",
   "metadata": {},
   "outputs": [
    {
     "data": {
      "text/plain": [
       "0.570954870212099"
      ]
     },
     "execution_count": 49,
     "metadata": {},
     "output_type": "execute_result"
    }
   ],
   "source": [
    "lr_model.score(x_test, y_test)"
   ]
  },
  {
   "cell_type": "code",
   "execution_count": 52,
   "id": "79b4f619",
   "metadata": {},
   "outputs": [
    {
     "data": {
      "text/plain": [
       "[<matplotlib.lines.Line2D at 0x1f6627e6fa0>]"
      ]
     },
     "execution_count": 52,
     "metadata": {},
     "output_type": "execute_result"
    },
    {
     "data": {
      "image/png": "[encoded data removed]",
      "text/plain": [
       "<Figure size 432x288 with 1 Axes>"
      ]
     },
     "metadata": {
      "needs_background": "light"
     },
     "output_type": "display_data"
    }
   ],
   "source": [
    "plt.scatter(x_train[:,0], y_train, c = 'red')\n",
    "plt.scatter(x_test[:,0], y_test, c = 'blue')\n",
    "plt.plot(x_train[:,0], lr_model.predict(x_train), c = 'y')"
   ]
  },
  {
   "cell_type": "code",
   "execution_count": null,
   "id": "5b4ba78f",
   "metadata": {},
   "outputs": [],
   "source": []
  }
 ],
 "metadata": {
  "kernelspec": {
   "display_name": "Python 3 (ipykernel)",
   "language": "python",
   "name": "python3"
  },
  "language_info": {
   "codemirror_mode": {
    "name": "ipython",
    "version": 3
   },
   "file_extension": ".py",
   "mimetype": "text/x-python",
   "name": "python",
   "nbconvert_exporter": "python",
   "pygments_lexer": "ipython3",
   "version": "3.11.0"
  }
 },
 "nbformat": 4,
 "nbformat_minor": 5
}
