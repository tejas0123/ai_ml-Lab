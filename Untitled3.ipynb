{
 "cells": [
  {
   "cell_type": "code",
   "execution_count": 1,
   "id": "39fffe53",
   "metadata": {},
   "outputs": [],
   "source": [
    "import numpy as np\n",
    "from functools import reduce"
   ]
  },
  {
   "cell_type": "code",
   "execution_count": 2,
   "id": "f9647e66",
   "metadata": {},
   "outputs": [],
   "source": [
    "def perceptron(weight, bias, x):\n",
    "    model = np.add(np.dot(x, weight), bias)\n",
    "    print('model'.format(model))\n",
    "    logit = 1/(1+np.exp(-model))\n",
    "    print('Type:{}'.format(logit))\n",
    "    return np.round(logit)"
   ]
  },
  {
   "cell_type": "code",
   "execution_count": 3,
   "id": "eb5ee674",
   "metadata": {},
   "outputs": [],
   "source": [
    "def compute(logictype, weightdict, dataset):\n",
    "    weights = np.array([weightdict[logictype][w] for w in weightdict[logictype].keys()])\n",
    "    output = np.array([perceptron(weights, weightdict['bias'][logictype], val) for val in dataset])\n",
    "    print(logictype)\n",
    "    return logictype, output"
   ]
  },
  {
   "cell_type": "code",
   "execution_count": null,
   "id": "36d05423",
   "metadata": {},
   "outputs": [],
   "source": [
    "def main():\n",
    "    logic = {\n",
    "        'logic_and':{\n",
    "            'w0':-0.1,\n",
    "            'w1':0.2,\n",
    "            'w2':0.2\n",
    "        },\n",
    "        \n",
    "        'logic_nand':{\n",
    "            'w0':0.6,\n",
    "            'w1':-0.8,\n",
    "            'w2':-0.8\n",
    "        },\n",
    "        \n",
    "        'bias':{\n",
    "            'logic_and':-0.2,\n",
    "            'logic_nand':0.3\n",
    "        }\n",
    "    }\n",
    "    \n",
    "    dataset = np.array([\n",
    "        [1,0,0],\n",
    "        [1,0,1],\n",
    "        [1,1,0],\n",
    "        [1,1,1]\n",
    "    ])\n",
    "    \n",
    "    logic_and = compute('logic_and', logic, dataset)\n",
    "    logic_nand = compute('logic_type', logic, dataset)\n",
    "    def template(dataset, name, data):\n",
    "        print(\"X0\\tX1\\tY\")\n",
    "        toprint = [\"{1}\\t{2}\\t{3}\\t{0}\".format(output, *datas) for datas, output in zip(dataset, data)]\n",
    "        "
   ]
  }
 ],
 "metadata": {
  "kernelspec": {
   "display_name": "Python 3 (ipykernel)",
   "language": "python",
   "name": "python3"
  },
  "language_info": {
   "codemirror_mode": {
    "name": "ipython",
    "version": 3
   },
   "file_extension": ".py",
   "mimetype": "text/x-python",
   "name": "python",
   "nbconvert_exporter": "python",
   "pygments_lexer": "ipython3",
   "version": "3.11.0"
  }
 },
 "nbformat": 4,
 "nbformat_minor": 5
}
